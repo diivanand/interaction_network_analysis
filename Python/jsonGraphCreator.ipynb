{
 "metadata": {
  "name": "jsonGraphCreator"
 },
 "nbformat": 3,
 "worksheets": [
  {
   "cells": [
    {
     "cell_type": "code",
     "collapsed": true,
     "input": [
      "\"\"\"",
      "The goal of this script is to create a NetworkX directed",
      "graph based on the output of the interaction_graph_tuples.pig,",
      "filter the graph using K-core and edge-weight filtering",
      "and then output a folder whose files are JSON files where",
      "each JSON file represents a Connected Component in the",
      "filtered graph.",
      "\"\"\"",
      "#import necessary modules",
      "import numpy as np",
      "from datetime import datetime, timedelta",
      "from dateutil.parser import parse",
      "from pandas import *",
      "from collections import Counter",
      "import ast",
      "import networkx as nx",
      "import json"
     ],
     "language": "python",
     "outputs": [],
     "prompt_number": 1
    },
    {
     "cell_type": "code",
     "collapsed": true,
     "input": [
      "#removes all non-ascii characters from a string. Sorry Non-English-speaking people. Get used to it.",
      "def removeNonAscii(s): return \"\".join(i for i in s if ord(i)<128)"
     ],
     "language": "python",
     "outputs": [],
     "prompt_number": 2
    },
    {
     "cell_type": "code",
     "collapsed": true,
     "input": [
      "#There's a reason I name my functions the way I do so I don't have to write comments like this explaining what they do.",
      "#But I will anyway since it's admittingly not completely obvious",
      "#This function creates a network x graph from a data frame containing edge information on our graph",
      "#including the edge's properties",
      "def createDiGraphFromEdgeDataFrame(df):",
      "    graph = nx.DiGraph()",
      "    for i in graph_data.index:",
      "        graph.add_edge(str(df.responder[i]),str(df.creator[i]),weight=df.weight[i],responsetype=df.responsetype[i],creationtype=df.creationtype[i],locationtype=df.locationtype[i],locationname=df.locationname[i],responsetime=df.responsetime[i])",
      "    return graph",
      "",
      "#Takes in the user properties data frame and a network x graph and attaches node properties to the nodes in the graph",
      "def setNodeProp(usrDF,grph):",
      "    for n in grph.nodes():",
      "        grph.node[n]['id'] = str(n)",
      "        grph.node[n]['totalDegree'] = str(grph.degree(n))",
      "        grph.node[n]['inDegree'] = str(grph.in_degree(n))",
      "        grph.node[n]['outDegree'] = str(grph.out_degree(n))",
      "        grph.node[n]['predecessors'] = list(grph.predecessors(n))",
      "        grph.node[n]['successors'] = list(grph.successors(n))",
      "        grph.node[n]['neighbors'] = list(grph.predecessors(n)) + list(grph.successors(n))",
      "        for prop in usrDF.columns:",
      "            if int(n) in usrDF.index:",
      "                if type(usrDF.ix[int(n)][prop]) != str:",
      "                    grph.node[n][prop] = ''",
      "                else:",
      "                    grph.node[n][prop] = removeNonAscii(usrDF.ix[int(n)][prop])",
      "                    ",
      "def getNodePropDictList(graph):",
      "    dictList = []",
      "    for n in graph.nodes():",
      "        dictList.append(graph.node[n])",
      "    return dictList",
      "",
      "def getEdgePropDictList(graph):",
      "    dictList = []",
      "    for e in graph.edges():",
      "        tmpDict = {}",
      "        src = e[0]",
      "        trg = e[1]",
      "        wgt = graph.edge[src][trg]['weight']",
      "        rType = graph.edge[src][trg]['responsetype']",
      "        cType = graph.edge[src][trg]['creationtype']",
      "        lType = graph.edge[src][trg]['locationtype']",
      "        lName = graph.edge[src][trg]['locationname']",
      "        rTime = graph.edge[src][trg]['responsetime']",
      "        locCnt = Counter(graph.edge[src][trg]['locationname'])",
      "        tmpDict['source'] = str(src)",
      "        tmpDict['target'] = str(trg)",
      "        tmpDict['value'] = str(wgt)",
      "        tmpDict['rtype'] = list(rType)",
      "        tmpDict['ctype'] = list(cType)",
      "        tmpDict['ltype'] = list(lType)",
      "        tmpDict['lname'] = list(lName)",
      "        tmpDict['rtime'] = list(rTime)",
      "        tmpDict['lcnt'] = dict(locCnt)",
      "        dictList.append(tmpDict)",
      "    return dictList",
      "",
      "#Self-explanatory? (lol I'm not trying to be a smart ass to be mean or anything or to make a point)",
      "#I'm just doign this for fun since I'm in a good mood :)",
      "def filterEdgesByWeight(graph,min_weight):",
      "    rmLst = []",
      "    for e in graph.edges():",
      "        src = e[0]",
      "        trg = e[1]",
      "        wgt = graph.edge[src][trg]['weight']",
      "        if wgt >= min_weight:",
      "            continue",
      "        else:",
      "            rmLst.append(e)",
      "    graph.remove_edges_from(rmLst)",
      "",
      "#Same as above comment",
      "def filterNodesByDegree(graph, min_degree):",
      "    rmLst = []",
      "    for n in graph.nodes():",
      "        if nx.degree(graph,n) >= min_degree:",
      "            continue",
      "        else:",
      "            rmLst.append(n)",
      "    graph.remove_nodes_from(rmLst)",
      "",
      "#Same as above comment",
      "def writeGraphToJSONFile(graph,outFileName):",
      "    fout = open(outFileName + '.json','w')",
      "    nodePropDictList = getNodePropDictList(graph)",
      "    edgePropDictList = getEdgePropDictList(graph)",
      "    jsonDict = {}",
      "    jsonDict[\"nodes\"] = nodePropDictList",
      "    jsonDict[\"links\"] = edgePropDictList",
      "    output = json.dumps(jsonDict) #converts all dictionary objects into json objects",
      "    fout.write(output)",
      "    fout.close()"
     ],
     "language": "python",
     "outputs": [],
     "prompt_number": 3
    },
    {
     "cell_type": "code",
     "collapsed": true,
     "input": [
      "#Takes in a string that looks like a python list, and actually turns it into a python list",
      "#Normally ast.literal_eval does this but not for the location name column due to certain special",
      "#characters",
      "def parseLocationName(input):",
      "    return input[1:len(input)-1].split(',')",
      "",
      "#Makes sure the length of each list in each column for a certain row is the same",
      "def isDataConsistentAfterMunging(graph_data):",
      "    for i,lst in enumerate(graph_data.responsetype):",
      "        if len(graph_data.responsetype[i]) != len(graph_data.locationname[i]):",
      "            print i,graph_data.locationname[i],\"responsetype\"",
      "            return False;",
      "        if len(graph_data.creationtype[i]) != len(graph_data.locationname[i]):",
      "            print i,graph_data.locationname[i],\"creationtype\"",
      "            return False;",
      "        if len(graph_data.locationtype[i]) != len(graph_data.locationname[i]):",
      "            print i,graph_data.locationname[i],\"locationtype\"",
      "            return False;",
      "        if len(graph_data.responsetime[i]) != len(graph_data.locationname[i]):",
      "            print i,graph_data.locationname[i],\"responsetime\"",
      "            return False;",
      "    return True"
     ],
     "language": "python",
     "outputs": [],
     "prompt_number": 4
    },
    {
     "cell_type": "code",
     "collapsed": false,
     "input": [
      "#Read user property data into a data frame",
      "propData = read_csv(\"tr_restricted_field_info.csv\",sep=',',names=['name','userid','value'])",
      "userInfo = propData.pivot(index='userid',columns='name',values='value')",
      "userInfo"
     ],
     "language": "python",
     "outputs": [
      {
       "output_type": "pyout",
       "prompt_number": 5,
       "text": [
        "<class 'pandas.core.frame.DataFrame'>",
        "Int64Index: 88860 entries, 2002 to 197505",
        "Data columns:",
        "Address               9  non-null values",
        "Cost Center           88827  non-null values",
        "Department            88857  non-null values",
        "Expertise             3906  non-null values",
        "Floor                 0  non-null values",
        "Hire Date             0  non-null values",
        "Job Family            0  non-null values",
        "Location              88858  non-null values",
        "Office Cube           20423  non-null values",
        "Official City         88857  non-null values",
        "Official Country      88857  non-null values",
        "Official Post Code    69409  non-null values",
        "Official State        45439  non-null values",
        "Title                 88858  non-null values",
        "UTC Offset            0  non-null values",
        "dtypes: object(15)"
       ]
      }
     ],
     "prompt_number": 5
    },
    {
     "cell_type": "code",
     "collapsed": true,
     "input": [
      "#Read Output file from interaction_graph_tuples.pig and store into a data frame",
      "graph_data = read_csv(\"inter_graph_APR1_MAY25_th1.csv\",sep=';',names=['responder','creator','weight','responsetype','creationtype','locationtype','locationname','responsetime'])"
     ],
     "language": "python",
     "outputs": [],
     "prompt_number": 6
    },
    {
     "cell_type": "code",
     "collapsed": true,
     "input": [
      "#Lots of parsing to get each element in each columns into a String than can be parsed into a list",
      "graph_data.responsetype = graph_data.responsetype.apply(lambda input: input.replace('{','[').replace('}',']').replace('(','\"').replace(')','\"'))",
      "graph_data.creationtype = graph_data.creationtype.apply(lambda input: input.replace('{','[').replace('}',']').replace('(','\"').replace(')','\"'))",
      "graph_data.locationtype = graph_data.locationtype.apply(lambda input: input.replace('{','[').replace('}',']').replace('(','\"').replace(')','\"'))",
      "graph_data.locationname = graph_data.locationname.apply(lambda input: input.replace('{','[').replace('}',']').replace('(','').replace(')',''))",
      "graph_data.responsetime = graph_data.responsetime.apply(lambda input: input.replace('{','[').replace('}',']').replace('(','\"').replace(')','\"'))"
     ],
     "language": "python",
     "outputs": [],
     "prompt_number": 7
    },
    {
     "cell_type": "code",
     "collapsed": true,
     "input": [
      "#Parses each element in each of these columns into list objects (each element in each column is a list object after this parsing is done)",
      "graph_data.responsetype = graph_data.responsetype.apply(ast.literal_eval)",
      "graph_data.creationtype = graph_data.creationtype.apply(ast.literal_eval)",
      "graph_data.locationtype = graph_data.locationtype.apply(ast.literal_eval)",
      "graph_data.locationname = graph_data.locationname.apply(removeNonAscii)",
      "graph_data.locationname = graph_data.locationname.apply(parseLocationName)",
      "graph_data.responsetime = graph_data.responsetime.apply(ast.literal_eval)"
     ],
     "language": "python",
     "outputs": [],
     "prompt_number": 8
    },
    {
     "cell_type": "code",
     "collapsed": false,
     "input": [
      "#Checks to make sure that parsing didn't mis-align the lists (the length of the lists in each of the 6 rows above are the same for the same index)",
      "print \"Edge Data is consistent and aligned after Munging: \" + str(isDataConsistentAfterMunging(graph_data))"
     ],
     "language": "python",
     "outputs": [
      {
       "output_type": "stream",
       "stream": "stdout",
       "text": [
        "Edge Data is consistent and aligned after Munging: True"
       ]
      }
     ],
     "prompt_number": 9
    },
    {
     "cell_type": "code",
     "collapsed": true,
     "input": [
      "#Creates a network x directed graph and sets edge and node properties, edge properties set while the graph is being created",
      "#Duplicate graph made so filtration methods can be applied to it while the other graph retains the original unfiltered graph",
      "intergraph = createDiGraphFromEdgeDataFrame(graph_data)",
      "setNodeProp(userInfo,intergraph)",
      "intergraph2 = createDiGraphFromEdgeDataFrame(graph_data)"
     ],
     "language": "python",
     "outputs": [],
     "prompt_number": 10
    },
    {
     "cell_type": "code",
     "collapsed": true,
     "input": [
      "#Self explanatory filtering in my opinion and the obtaining the connected components",
      "#from that filtered graph, lowest index = largest connect component",
      "filGraph = nx.k_core(G=intergraph2,k=5)",
      "filterEdgesByWeight(filGraph,5)",
      "filterNodesByDegree(filGraph,1)",
      "setNodeProp(userInfo,filGraph)",
      "interCC=nx.weakly_connected_component_subgraphs(filGraph)#list of network x graphs, each is a connected component of the filtered graph"
     ],
     "language": "python",
     "outputs": [],
     "prompt_number": 11
    },
    {
     "cell_type": "code",
     "collapsed": true,
     "input": [
      "#Outputs the json files",
      "for i,graph in enumerate(interCC):",
      "    writeGraphToJSONFile(graph,'inter_graph_APR1_MAY25_th1_CCs/' + str(i))"
     ],
     "language": "python",
     "outputs": [],
     "prompt_number": 12
    },
    {
     "cell_type": "code",
     "collapsed": false,
     "input": [
      "#Sanity check",
      "json.dumps(getNodePropDictList(interCC[33]))"
     ],
     "language": "python",
     "outputs": [
      {
       "output_type": "pyout",
       "prompt_number": 13,
       "text": [
        "'[{\"neighbors\": [\"3141\", \"3128\", \"3128\"], \"Floor\": \"\", \"inDegree\": \"2\", \"Cost Center\": \"100179601\", \"Official City\": \"Wellington\", \"Location\": \"10658\", \"Department\": \"L NZ Customr Care Team-NZL-RBR\", \"Official State\": \"\", \"id\": \"15158\", \"Title\": \"Customer Service Manager NZ\", \"Office Cube\": \"N29\", \"Address\": \"\", \"UTC Offset\": \"\", \"Hire Date\": \"\", \"Official Post Code\": \"6011\", \"outDegree\": \"1\", \"Official Country\": \"New Zealand\", \"totalDegree\": \"3\", \"predecessors\": [\"3141\", \"3128\"], \"Job Family\": \"\", \"Expertise\": \"customer service, photography, knowledge management, social media, workplace training, motorsport media, \", \"successors\": [\"3128\"]}, {\"neighbors\": [\"15158\", \"15158\"], \"Floor\": \"\", \"inDegree\": \"1\", \"Cost Center\": \"100179400\", \"Official City\": \"Auckland\", \"Location\": \"10659\", \"Department\": \"L NZ Sales Team-NZL-RBR\", \"Official State\": \"\", \"id\": \"3128\", \"Title\": \"Online Specialist\", \"Office Cube\": \"\", \"Address\": \"\", \"UTC Offset\": \"\", \"Hire Date\": \"\", \"Official Post Code\": \"1144\", \"outDegree\": \"1\", \"Official Country\": \"New Zealand\", \"totalDegree\": \"2\", \"predecessors\": [\"15158\"], \"Job Family\": \"\", \"Expertise\": \"\", \"successors\": [\"15158\"]}, {\"neighbors\": [\"15158\"], \"Floor\": \"\", \"inDegree\": \"0\", \"Cost Center\": \"100179400\", \"Official City\": \"Auckland\", \"Location\": \"10659\", \"Department\": \"L NZ Sales Team-NZL-RBR\", \"Official State\": \"\", \"id\": \"3141\", \"Title\": \"Regional Sales Manager - Northern Region\", \"Office Cube\": \"\", \"Address\": \"\", \"UTC Offset\": \"\", \"Hire Date\": \"\", \"Official Post Code\": \"1144\", \"outDegree\": \"1\", \"Official Country\": \"New Zealand\", \"totalDegree\": \"1\", \"predecessors\": [], \"Job Family\": \"\", \"Expertise\": \"\", \"successors\": [\"15158\"]}]'"
       ]
      }
     ],
     "prompt_number": 13
    },
    {
     "cell_type": "code",
     "collapsed": false,
     "input": [
      "#Sanity check",
      "json.dumps(getEdgePropDictList(interCC[33]))"
     ],
     "language": "python",
     "outputs": [
      {
       "output_type": "pyout",
       "prompt_number": 14,
       "text": [
        "'[{\"rtime\": [\"1334626334933\", \"1337829122611\", \"1335381245000\", \"1337224565086\", \"1335465893334\"], \"ltype\": [\"NOLOC\", \"NOLOC\", \"NOLOC\", \"NOLOC\", \"NOLOC\"], \"target\": \"3128\", \"rtype\": [\"COM\", \"COM\", \"COM\", \"COM\", \"COM\"], \"ctype\": [\"COM\", \"COM\", \"COM\", \"COM\", \"COM\"], \"lname\": [\"NONAME\", \"NONAME\", \"NONAME\", \"NONAME\", \"NONAME\"], \"source\": \"15158\", \"lcnt\": {\"NONAME\": 5}, \"value\": \"5\"}, {\"rtime\": [\"1335832665157\", \"1335213805838\", \"1334529680926\", \"1335832641409\", \"1337826336510\", \"1337132675196\", \"1335405851753\"], \"ltype\": [\"NOLOC\", \"SGROUP\", \"SGROUP\", \"SGROUP\", \"SGROUP\", \"SGROUP\", \"NOLOC\"], \"target\": \"15158\", \"rtype\": [\"LIKE\", \"COM\", \"COM\", \"COM\", \"COM\", \"COM\", \"COM\"], \"ctype\": [\"COM\", \"DOC\", \"DOC\", \"DOC\", \"DOC\", \"DOC\", \"COM\"], \"lname\": [\"NONAME\", \"Westlaw NZ\", \"Westlaw NZ\", \"Westlaw NZ\", \"Westlaw NZ\", \"Westlaw NZ\", \"NONAME\"], \"source\": \"3128\", \"lcnt\": {\"NONAME\": 2, \"Westlaw NZ\": 5}, \"value\": \"7\"}, {\"rtime\": [\"1337826044201\", \"1337724537323\", \"1335907120185\", \"1337739762853\", \"1335833014624\", \"1337653676668\", \"1337724315638\", \"1335829656657\"], \"ltype\": [\"NOLOC\", \"NOLOC\", \"SGROUP\", \"SGROUP\", \"SGROUP\", \"SGROUP\", \"NOLOC\", \"SGROUP\"], \"target\": \"15158\", \"rtype\": [\"COM\", \"LIKE\", \"LIKE\", \"LIKE\", \"LIKE\", \"COM\", \"LIKE\", \"COM\"], \"ctype\": [\"COM\", \"COM\", \"MSG\", \"MSG\", \"DOC\", \"DOC\", \"COM\", \"DOC\"], \"lname\": [\"NONAME\", \"NONAME\", \"Westlaw NZ\", \"Westlaw NZ\", \"Westlaw NZ\", \"Westlaw NZ\", \"NONAME\", \"Westlaw NZ\"], \"source\": \"3141\", \"lcnt\": {\"NONAME\": 3, \"Westlaw NZ\": 5}, \"value\": \"8\"}]'"
       ]
      }
     ],
     "prompt_number": 14
    },
    {
     "cell_type": "code",
     "collapsed": false,
     "input": [
      "#Sanity check",
      "intergraph.node[intergraph.nodes()[0]]"
     ],
     "language": "python",
     "outputs": [
      {
       "output_type": "pyout",
       "prompt_number": 15,
       "text": [
        "{'Address': '',",
        " 'Cost Center': '636611002',",
        " 'Department': 'Communications-USA-TSS',",
        " 'Expertise': '',",
        " 'Floor': '',",
        " 'Hire Date': '',",
        " 'Job Family': '',",
        " 'Location': '10028',",
        " 'Office Cube': '35T-1',",
        " 'Official City': 'Boston',",
        " 'Official Country': 'United States',",
        " 'Official Post Code': '02210',",
        " 'Official State': 'MA',",
        " 'Title': 'Director, Internal Communications',",
        " 'UTC Offset': '',",
        " 'id': '11542',",
        " 'inDegree': '32',",
        " 'neighbors': ['10000',",
        "  '75217',",
        "  '46214',",
        "  '12775',",
        "  '21274',",
        "  '54707',",
        "  '55978',",
        "  '39422',",
        "  '14204',",
        "  '13507',",
        "  '43259',",
        "  '60939',",
        "  '30566',",
        "  '27227',",
        "  '35325',",
        "  '47741',",
        "  '33709',",
        "  '31758',",
        "  '9271',",
        "  '63286',",
        "  '40549',",
        "  '21673',",
        "  '34811',",
        "  '67919',",
        "  '16185',",
        "  '45287',",
        "  '55121',",
        "  '79978',",
        "  '27699',",
        "  '74902',",
        "  '31388',",
        "  '29928',",
        "  '25307',",
        "  '40549',",
        "  '52338',",
        "  '49789',",
        "  '9172'],",
        " 'outDegree': '5',",
        " 'predecessors': ['10000',",
        "  '75217',",
        "  '46214',",
        "  '12775',",
        "  '21274',",
        "  '54707',",
        "  '55978',",
        "  '39422',",
        "  '14204',",
        "  '13507',",
        "  '43259',",
        "  '60939',",
        "  '30566',",
        "  '27227',",
        "  '35325',",
        "  '47741',",
        "  '33709',",
        "  '31758',",
        "  '9271',",
        "  '63286',",
        "  '40549',",
        "  '21673',",
        "  '34811',",
        "  '67919',",
        "  '16185',",
        "  '45287',",
        "  '55121',",
        "  '79978',",
        "  '27699',",
        "  '74902',",
        "  '31388',",
        "  '29928'],",
        " 'successors': ['25307', '40549', '52338', '49789', '9172'],",
        " 'totalDegree': '37'}"
       ]
      }
     ],
     "prompt_number": 15
    },
    {
     "cell_type": "code",
     "collapsed": false,
     "input": [
      "#Sanity check",
      "intergraph.edge[intergraph.edges()[0][0]][intergraph.edges()[0][1]]"
     ],
     "language": "python",
     "outputs": [
      {
       "output_type": "pyout",
       "prompt_number": 16,
       "text": [
        "{'creationtype': ['DOC'],",
        " 'locationname': ['Infrastructure Team'],",
        " 'locationtype': ['PROJECT'],",
        " 'responsetime': ['1336674841639'],",
        " 'responsetype': ['COM'],",
        " 'weight': 1}"
       ]
      }
     ],
     "prompt_number": 16
    },
    {
     "cell_type": "code",
     "collapsed": true,
     "input": [],
     "language": "python",
     "outputs": []
    }
   ]
  }
 ]
}