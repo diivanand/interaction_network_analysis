{
 "metadata": {
  "name": "Interaction Graph Creator"
 },
 "nbformat": 3,
 "worksheets": [
  {
   "cells": [
    {
     "cell_type": "code",
     "collapsed": true,
     "input": [
      "\"\"\"",
      "The goal of this script is to created a network x directed",
      "graph based on the output of the interaction_graph_tuples.pig",
      "and then output a gexf file which represents the graph",
      "\"\"\"",
      "",
      "#import necessary modules",
      "import numpy as np",
      "from datetime import datetime, timedelta",
      "from dateutil.parser import parse",
      "from pandas import *",
      "from collections import Counter",
      "import ast",
      "import networkx as nx",
      "import json"
     ],
     "language": "python",
     "outputs": [],
     "prompt_number": 1
    },
    {
     "cell_type": "code",
     "collapsed": true,
     "input": [
      "#removes all non-ascii characters from a string. Sorry Non-English-speaking people. Get used to it.",
      "def removeNonAscii(s): return \"\".join(i for i in s if ord(i)<128)",
      "",
      "#There's a reason I name my functions the way I do so I don't have to write comments like this explaining what they do.",
      "#But I will anyway since it's admittingly not completely obvious",
      "#This function creates a network x graph from a data frame containing edge information on our graph",
      "#Unlike the function of the same name in jsonGraphCreator, this one doesn't include the edge's properties",
      "#Since network x gexf writer can't parse python lists",
      "def createDiGraphFromEdgeDataFrame(df):",
      "    graph = nx.DiGraph()",
      "    for i in graph_data.index:",
      "        graph.add_edge(str(df.responder[i]),str(df.creator[i]),weight=df.weight[i])",
      "    return graph",
      "",
      "#Takes in the user properties data frame and a network x graph and attaches node properties to the nodes in the graph",
      "def setNodeProp(usrDF,grph):",
      "    for n in grph.nodes():",
      "        grph.node[n]['id'] = str(n)",
      "        for prop in usrDF.columns:",
      "            if int(n) in usrDF.index:",
      "                if type(usrDF.ix[int(n)][prop]) != str:",
      "                    grph.node[n][prop] = ''",
      "                else:",
      "                    grph.node[n][prop] = removeNonAscii(usrDF.ix[int(n)][prop])",
      "                    ",
      "#This entire block of code was copy pasted from jsonGraphCreator",
      "#So some of these functions aren't used here",
      "#If you want the comments of what they do, look in that script",
      "#instead.",
      "                    ",
      "def getNodePropDictList(graph):",
      "    dictList = []",
      "    for n in graph.nodes():",
      "        dictList.append(graph.node[n])",
      "    return dictList",
      "",
      "def getEdgePropDictList(graph):",
      "    dictList = []",
      "    for e in graph.edges():",
      "        tmpDict = {}",
      "        src = e[0]",
      "        trg = e[1]",
      "        wgt = graph.edge[src][trg]['weight']",
      "        rType = graph.edge[src][trg]['responsetype']",
      "        cType = graph.edge[src][trg]['creationtype']",
      "        lType = graph.edge[src][trg]['locationtype']",
      "        lName = graph.edge[src][trg]['locationname']",
      "        rTime = graph.edge[src][trg]['responsetime']",
      "        locCnt = Counter(graph.edge[src][trg]['locationname'])",
      "        tmpDict['source'] = str(src)",
      "        tmpDict['target'] = str(trg)",
      "        tmpDict['value'] = str(wgt)",
      "        tmpDict['rtype'] = list(rType)",
      "        tmpDict['ctype'] = list(cType)",
      "        tmpDict['ltype'] = list(lType)",
      "        tmpDict['lname'] = list(lName)",
      "        tmpDict['rtime'] = list(rTime)",
      "        tmpDict['lcnt'] = dict(locCnt)",
      "        dictList.append(tmpDict)",
      "    return dictList",
      "",
      "def filterEdgesByWeight(graph,min_weight):",
      "    rmLst = []",
      "    for e in graph.edges():",
      "        src = e[0]",
      "        trg = e[1]",
      "        wgt = graph.edge[src][trg]['weight']",
      "        if wgt >= min_weight:",
      "            continue",
      "        else:",
      "            rmLst.append(e)",
      "    graph.remove_edges_from(rmLst)",
      "    ",
      "def filterNodesByDegree(graph, min_degree):",
      "    rmLst = []",
      "    for n in graph.nodes():",
      "        if nx.degree(graph,n) >= min_degree:",
      "            continue",
      "        else:",
      "            rmLst.append(n)",
      "    graph.remove_nodes_from(rmLst)",
      "",
      "def writeGraphToJSONFile(graph,outFileName):",
      "    fout = open(outFileName + '.json','w')",
      "    nodePropDictList = getNodePropDictList(graph)",
      "    edgePropDictList = getEdgePropDictList(graph)",
      "    jsonDict = {}",
      "    jsonDict[\"nodes\"] = nodePropDictList",
      "    jsonDict[\"links\"] = edgePropDictList",
      "    output = json.dumps(jsonDict)",
      "    fout.write(output)",
      "    fout.close()",
      "    ",
      "def rreplace(s, old, new, occurrence):",
      "    li = s.rsplit(old, occurrence)",
      "    return new.join(li)",
      "",
      "def parseLocationName(input):",
      "    return input[1:len(input)-1].split(',')",
      "",
      "def isDataConsistentAfterMunging(graph_data):",
      "    for i,lst in enumerate(graph_data.responsetype):",
      "        if len(graph_data.responsetype[i]) != len(graph_data.locationname[i]):",
      "            print i,graph_data.locationname[i],\"responsetype\"",
      "            return False;",
      "        if len(graph_data.creationtype[i]) != len(graph_data.locationname[i]):",
      "            print i,graph_data.locationname[i],\"creationtype\"",
      "            return False;",
      "        if len(graph_data.locationtype[i]) != len(graph_data.locationname[i]):",
      "            print i,graph_data.locationname[i],\"locationtype\"",
      "            return False;",
      "        if len(graph_data.responsetime[i]) != len(graph_data.locationname[i]):",
      "            print i,graph_data.locationname[i],\"responsetime\"",
      "            return False;",
      "    return True"
     ],
     "language": "python",
     "outputs": [],
     "prompt_number": 2
    },
    {
     "cell_type": "code",
     "collapsed": false,
     "input": [
      "#Read user property data into a data frame",
      "propData = read_csv(\"tr_restricted_field_info.csv\",sep=',',names=['name','userid','value'])",
      "userInfo = propData.pivot(index='userid',columns='name',values='value')",
      "userInfo"
     ],
     "language": "python",
     "outputs": [
      {
       "output_type": "pyout",
       "prompt_number": 3,
       "text": [
        "<class 'pandas.core.frame.DataFrame'>",
        "Int64Index: 88860 entries, 2002 to 197505",
        "Data columns:",
        "Address               9  non-null values",
        "Cost Center           88827  non-null values",
        "Department            88857  non-null values",
        "Expertise             3906  non-null values",
        "Floor                 0  non-null values",
        "Hire Date             0  non-null values",
        "Job Family            0  non-null values",
        "Location              88858  non-null values",
        "Office Cube           20423  non-null values",
        "Official City         88857  non-null values",
        "Official Country      88857  non-null values",
        "Official Post Code    69409  non-null values",
        "Official State        45439  non-null values",
        "Title                 88858  non-null values",
        "UTC Offset            0  non-null values",
        "dtypes: object(15)"
       ]
      }
     ],
     "prompt_number": 3
    },
    {
     "cell_type": "code",
     "collapsed": true,
     "input": [
      "#Read Output file from interaction_graph_tuples.pig and store into a data frame",
      "graph_data = read_csv(\"inter_graph_APR1_MAY25_th1.csv\",sep=';',names=['responder','creator','weight','responsetype','creationtype','locationtype','locationname','responsetime'])"
     ],
     "language": "python",
     "outputs": [],
     "prompt_number": 4
    },
    {
     "cell_type": "code",
     "collapsed": true,
     "input": [
      "#Lots of parsing to get each element in each columns into a String than can be parsed into a list",
      "graph_data.responsetype = graph_data.responsetype.apply(lambda input: input.replace('{','[').replace('}',']').replace('(','\"').replace(')','\"'))",
      "graph_data.creationtype = graph_data.creationtype.apply(lambda input: input.replace('{','[').replace('}',']').replace('(','\"').replace(')','\"'))",
      "graph_data.locationtype = graph_data.locationtype.apply(lambda input: input.replace('{','[').replace('}',']').replace('(','\"').replace(')','\"'))",
      "graph_data.locationname = graph_data.locationname.apply(lambda input: input.replace('{','[').replace('}',']').replace('(','').replace(')',''))",
      "graph_data.responsetime = graph_data.responsetime.apply(lambda input: input.replace('{','[').replace('}',']').replace('(','\"').replace(')','\"'))"
     ],
     "language": "python",
     "outputs": [],
     "prompt_number": 5
    },
    {
     "cell_type": "code",
     "collapsed": true,
     "input": [
      "#Parses each element in each of these columns into list objects (each element in each column is a list object after this parsing is done)",
      "graph_data.responsetype = graph_data.responsetype.apply(ast.literal_eval)",
      "graph_data.creationtype = graph_data.creationtype.apply(ast.literal_eval)",
      "graph_data.locationtype = graph_data.locationtype.apply(ast.literal_eval)",
      "graph_data.locationname = graph_data.locationname.apply(removeNonAscii)",
      "graph_data.locationname = graph_data.locationname.apply(parseLocationName)",
      "graph_data.responsetime = graph_data.responsetime.apply(ast.literal_eval)"
     ],
     "language": "python",
     "outputs": [],
     "prompt_number": 6
    },
    {
     "cell_type": "code",
     "collapsed": false,
     "input": [
      "#Checks to make sure that parsing didn't mis-align the lists (the length of the lists in each of the 6 rows above are the same for the same index)",
      "print \"Edge Data is consistent and aligned after Munging: \" + str(isDataConsistentAfterMunging(graph_data))"
     ],
     "language": "python",
     "outputs": [
      {
       "output_type": "stream",
       "stream": "stdout",
       "text": [
        "Edge Data is consistent and aligned after Munging: True"
       ]
      }
     ],
     "prompt_number": 7
    },
    {
     "cell_type": "code",
     "collapsed": true,
     "input": [
      "#Creates a network x directed graph and sets node properties",
      "intergraph = createDiGraphFromEdgeDataFrame(graph_data)",
      "setNodeProp(userInfo,intergraph)"
     ],
     "language": "python",
     "outputs": [],
     "prompt_number": 8
    },
    {
     "cell_type": "code",
     "collapsed": false,
     "input": [
      "#Sanity check",
      "intergraph.node[intergraph.nodes()[0]]"
     ],
     "language": "python",
     "outputs": [
      {
       "output_type": "pyout",
       "prompt_number": 9,
       "text": [
        "{'Address': '',",
        " 'Cost Center': '636611002',",
        " 'Department': 'Communications-USA-TSS',",
        " 'Expertise': '',",
        " 'Floor': '',",
        " 'Hire Date': '',",
        " 'Job Family': '',",
        " 'Location': '10028',",
        " 'Office Cube': '35T-1',",
        " 'Official City': 'Boston',",
        " 'Official Country': 'United States',",
        " 'Official Post Code': '02210',",
        " 'Official State': 'MA',",
        " 'Title': 'Director, Internal Communications',",
        " 'UTC Offset': '',",
        " 'id': '11542'}"
       ]
      }
     ],
     "prompt_number": 9
    },
    {
     "cell_type": "code",
     "collapsed": true,
     "input": [
      "#Outputs the gexf file",
      "nx.write_gexf(intergraph,'inter_graph_APR1_MAY25_th1.gexf')"
     ],
     "language": "python",
     "outputs": [],
     "prompt_number": 10
    },
    {
     "cell_type": "code",
     "collapsed": true,
     "input": [],
     "language": "python",
     "outputs": [],
     "prompt_number": 10
    },
    {
     "cell_type": "code",
     "collapsed": true,
     "input": [],
     "language": "python",
     "outputs": []
    }
   ]
  }
 ]
}